{
 "cells": [
  {
   "cell_type": "markdown",
   "id": "e6a5193b",
   "metadata": {},
   "source": [
    "# Project: Mushroom Predictive Analysis using Scikit-learn"
   ]
  },
  {
   "cell_type": "markdown",
   "id": "d62a3586",
   "metadata": {},
   "source": [
    "## Introduction\n",
    "In this project, I will conduct a predictive analysis to determine which of the two selected features (\"odor\" and another feature of my choice) best predicts whether a mushroom is poisonous or edible. I will be using scikit-learn for building and evaluating the predictive model. My analysis will include preprocessing the data, converting categorical values into numerical form, training a classification model, and evaluating its accuracy."
   ]
  },
  {
   "cell_type": "markdown",
   "id": "f98a0928",
   "metadata": {},
   "source": [
    "### Step 1: Import Libraries\n",
    "To start, I will import the necessary libraries such as `pandas` for data manipulation, `scikit-learn` for machine learning models, and `matplotlib` for visualizations."
   ]
  },
  {
   "cell_type": "code",
   "execution_count": 2,
   "id": "4901e27c",
   "metadata": {},
   "outputs": [],
   "source": [
    "import pandas as pd\n",
    "import numpy as np\n",
    "from sklearn.model_selection import train_test_split\n",
    "from sklearn.ensemble import RandomForestClassifier\n",
    "from sklearn.metrics import accuracy_score, classification_report"
   ]
  },
  {
   "cell_type": "markdown",
   "id": "9a00bdf1",
   "metadata": {},
   "source": [
    "### Step 2: Load Dataset\n",
    "I will load the mushroom dataset, which I previously preprocessed. This dataset contains information about various characteristics of mushrooms, including whether they are edible or poisonous."
   ]
  },
  {
   "cell_type": "code",
   "execution_count": 3,
   "id": "ef725c9e",
   "metadata": {},
   "outputs": [
    {
     "name": "stdout",
     "output_type": "stream",
     "text": [
      "  class cap-shape cap-surface cap-color bruises odor gill-attachment  \\\n",
      "0     p         x           s         n       t    p               f   \n",
      "1     e         x           s         y       t    a               f   \n",
      "2     e         b           s         w       t    l               f   \n",
      "3     p         x           y         w       t    p               f   \n",
      "4     e         x           s         g       f    n               f   \n",
      "\n",
      "  gill-spacing gill-size gill-color  ... stalk-surface-below-ring  \\\n",
      "0            c         n          k  ...                        s   \n",
      "1            c         b          k  ...                        s   \n",
      "2            c         b          n  ...                        s   \n",
      "3            c         n          n  ...                        s   \n",
      "4            w         b          k  ...                        s   \n",
      "\n",
      "  stalk-color-above-ring stalk-color-below-ring veil-type veil-color  \\\n",
      "0                      w                      w         p          w   \n",
      "1                      w                      w         p          w   \n",
      "2                      w                      w         p          w   \n",
      "3                      w                      w         p          w   \n",
      "4                      w                      w         p          w   \n",
      "\n",
      "  ring-number ring-type spore-print-color population habitat  \n",
      "0           o         p                 k          s       u  \n",
      "1           o         p                 n          n       g  \n",
      "2           o         p                 n          n       m  \n",
      "3           o         p                 k          s       u  \n",
      "4           o         e                 n          a       g  \n",
      "\n",
      "[5 rows x 23 columns]\n"
     ]
    }
   ],
   "source": [
    "file_path = r\"C:\\Users\\The King\\Desktop\\FALL 2024\\IS 362\\IS362_PROJECT_4\\agaricus-lepiota.data\"\n",
    "df_mushrooms = pd.read_csv(file_path, header=None)\n",
    "\n",
    "df_mushrooms.columns = [\n",
    "    'class', 'cap-shape', 'cap-surface', 'cap-color', 'bruises', 'odor', 'gill-attachment',\n",
    "    'gill-spacing', 'gill-size', 'gill-color', 'stalk-shape', 'stalk-root', 'stalk-surface-above-ring',\n",
    "    'stalk-surface-below-ring', 'stalk-color-above-ring', 'stalk-color-below-ring', 'veil-type',\n",
    "    'veil-color', 'ring-number', 'ring-type', 'spore-print-color', 'population', 'habitat'\n",
    "]\n",
    "\n",
    "print(df_mushrooms.head())\n"
   ]
  },
  {
   "cell_type": "markdown",
   "id": "14375ed4",
   "metadata": {},
   "source": [
    "### Step 3: Select Features and Target\n",
    "For this analysis, I will select \"odor\" and another feature of my choice as predictors, and \"class\" as the target variable. The \"class\" column contains labels 'e' for edible and 'p' for poisonous."
   ]
  },
  {
   "cell_type": "code",
   "execution_count": 6,
   "id": "b5f8137d",
   "metadata": {},
   "outputs": [],
   "source": [
    "features = ['odor', 'gill-color']\n",
    "target = 'class'"
   ]
  },
  {
   "cell_type": "markdown",
   "id": "e14484d2",
   "metadata": {},
   "source": [
    "### Step 4: Preprocess Data\n",
    "To use these features in a machine learning model, I need to convert the categorical variables into numerical form. I will use `pandas.get_dummies()` to achieve this."
   ]
  },
  {
   "cell_type": "code",
   "execution_count": 7,
   "id": "93e8f35e",
   "metadata": {},
   "outputs": [
    {
     "name": "stdout",
     "output_type": "stream",
     "text": [
      "   odor_c  odor_f  odor_l  odor_m  odor_n  odor_p  odor_s  odor_y  \\\n",
      "0   False   False   False   False   False    True   False   False   \n",
      "1   False   False   False   False   False   False   False   False   \n",
      "2   False   False    True   False   False   False   False   False   \n",
      "3   False   False   False   False   False    True   False   False   \n",
      "4   False   False   False   False    True   False   False   False   \n",
      "\n",
      "   gill-color_e  gill-color_g  gill-color_h  gill-color_k  gill-color_n  \\\n",
      "0         False         False         False          True         False   \n",
      "1         False         False         False          True         False   \n",
      "2         False         False         False         False          True   \n",
      "3         False         False         False         False          True   \n",
      "4         False         False         False          True         False   \n",
      "\n",
      "   gill-color_o  gill-color_p  gill-color_r  gill-color_u  gill-color_w  \\\n",
      "0         False         False         False         False         False   \n",
      "1         False         False         False         False         False   \n",
      "2         False         False         False         False         False   \n",
      "3         False         False         False         False         False   \n",
      "4         False         False         False         False         False   \n",
      "\n",
      "   gill-color_y  \n",
      "0         False  \n",
      "1         False  \n",
      "2         False  \n",
      "3         False  \n",
      "4         False  \n"
     ]
    }
   ],
   "source": [
    "df_features = pd.get_dummies(df_mushrooms[features], drop_first=True)\n",
    "y = df_mushrooms[target].apply(lambda x: 1 if x == 'p' else 0)\n",
    "\n",
    "print(df_features.head())"
   ]
  },
  {
   "cell_type": "markdown",
   "id": "a556b178",
   "metadata": {},
   "source": [
    "### Step 5: Split Dataset\n",
    "I will split the data into training and testing sets, using 80% of the data for training and 20% for testing."
   ]
  },
  {
   "cell_type": "code",
   "execution_count": 8,
   "id": "f1f02a70",
   "metadata": {},
   "outputs": [],
   "source": [
    "X_train, X_test, y_train, y_test = train_test_split(df_features, y, test_size=0.2, random_state=42)"
   ]
  },
  {
   "cell_type": "markdown",
   "id": "3857682b",
   "metadata": {},
   "source": [
    "### Step 6: Train Classifier\n",
    "I will use the RandomForestClassifier to predict whether a mushroom is poisonous or edible. Random Forest is a robust ensemble model that works well for classification tasks."
   ]
  },
  {
   "cell_type": "code",
   "execution_count": 9,
   "id": "c4693dc1",
   "metadata": {},
   "outputs": [
    {
     "data": {
      "text/html": [
       "<style>#sk-container-id-1 {color: black;}#sk-container-id-1 pre{padding: 0;}#sk-container-id-1 div.sk-toggleable {background-color: white;}#sk-container-id-1 label.sk-toggleable__label {cursor: pointer;display: block;width: 100%;margin-bottom: 0;padding: 0.3em;box-sizing: border-box;text-align: center;}#sk-container-id-1 label.sk-toggleable__label-arrow:before {content: \"▸\";float: left;margin-right: 0.25em;color: #696969;}#sk-container-id-1 label.sk-toggleable__label-arrow:hover:before {color: black;}#sk-container-id-1 div.sk-estimator:hover label.sk-toggleable__label-arrow:before {color: black;}#sk-container-id-1 div.sk-toggleable__content {max-height: 0;max-width: 0;overflow: hidden;text-align: left;background-color: #f0f8ff;}#sk-container-id-1 div.sk-toggleable__content pre {margin: 0.2em;color: black;border-radius: 0.25em;background-color: #f0f8ff;}#sk-container-id-1 input.sk-toggleable__control:checked~div.sk-toggleable__content {max-height: 200px;max-width: 100%;overflow: auto;}#sk-container-id-1 input.sk-toggleable__control:checked~label.sk-toggleable__label-arrow:before {content: \"▾\";}#sk-container-id-1 div.sk-estimator input.sk-toggleable__control:checked~label.sk-toggleable__label {background-color: #d4ebff;}#sk-container-id-1 div.sk-label input.sk-toggleable__control:checked~label.sk-toggleable__label {background-color: #d4ebff;}#sk-container-id-1 input.sk-hidden--visually {border: 0;clip: rect(1px 1px 1px 1px);clip: rect(1px, 1px, 1px, 1px);height: 1px;margin: -1px;overflow: hidden;padding: 0;position: absolute;width: 1px;}#sk-container-id-1 div.sk-estimator {font-family: monospace;background-color: #f0f8ff;border: 1px dotted black;border-radius: 0.25em;box-sizing: border-box;margin-bottom: 0.5em;}#sk-container-id-1 div.sk-estimator:hover {background-color: #d4ebff;}#sk-container-id-1 div.sk-parallel-item::after {content: \"\";width: 100%;border-bottom: 1px solid gray;flex-grow: 1;}#sk-container-id-1 div.sk-label:hover label.sk-toggleable__label {background-color: #d4ebff;}#sk-container-id-1 div.sk-serial::before {content: \"\";position: absolute;border-left: 1px solid gray;box-sizing: border-box;top: 0;bottom: 0;left: 50%;z-index: 0;}#sk-container-id-1 div.sk-serial {display: flex;flex-direction: column;align-items: center;background-color: white;padding-right: 0.2em;padding-left: 0.2em;position: relative;}#sk-container-id-1 div.sk-item {position: relative;z-index: 1;}#sk-container-id-1 div.sk-parallel {display: flex;align-items: stretch;justify-content: center;background-color: white;position: relative;}#sk-container-id-1 div.sk-item::before, #sk-container-id-1 div.sk-parallel-item::before {content: \"\";position: absolute;border-left: 1px solid gray;box-sizing: border-box;top: 0;bottom: 0;left: 50%;z-index: -1;}#sk-container-id-1 div.sk-parallel-item {display: flex;flex-direction: column;z-index: 1;position: relative;background-color: white;}#sk-container-id-1 div.sk-parallel-item:first-child::after {align-self: flex-end;width: 50%;}#sk-container-id-1 div.sk-parallel-item:last-child::after {align-self: flex-start;width: 50%;}#sk-container-id-1 div.sk-parallel-item:only-child::after {width: 0;}#sk-container-id-1 div.sk-dashed-wrapped {border: 1px dashed gray;margin: 0 0.4em 0.5em 0.4em;box-sizing: border-box;padding-bottom: 0.4em;background-color: white;}#sk-container-id-1 div.sk-label label {font-family: monospace;font-weight: bold;display: inline-block;line-height: 1.2em;}#sk-container-id-1 div.sk-label-container {text-align: center;}#sk-container-id-1 div.sk-container {/* jupyter's `normalize.less` sets `[hidden] { display: none; }` but bootstrap.min.css set `[hidden] { display: none !important; }` so we also need the `!important` here to be able to override the default hidden behavior on the sphinx rendered scikit-learn.org. See: https://github.com/scikit-learn/scikit-learn/issues/21755 */display: inline-block !important;position: relative;}#sk-container-id-1 div.sk-text-repr-fallback {display: none;}</style><div id=\"sk-container-id-1\" class=\"sk-top-container\"><div class=\"sk-text-repr-fallback\"><pre>RandomForestClassifier(random_state=42)</pre><b>In a Jupyter environment, please rerun this cell to show the HTML representation or trust the notebook. <br />On GitHub, the HTML representation is unable to render, please try loading this page with nbviewer.org.</b></div><div class=\"sk-container\" hidden><div class=\"sk-item\"><div class=\"sk-estimator sk-toggleable\"><input class=\"sk-toggleable__control sk-hidden--visually\" id=\"sk-estimator-id-1\" type=\"checkbox\" checked><label for=\"sk-estimator-id-1\" class=\"sk-toggleable__label sk-toggleable__label-arrow\">RandomForestClassifier</label><div class=\"sk-toggleable__content\"><pre>RandomForestClassifier(random_state=42)</pre></div></div></div></div></div>"
      ],
      "text/plain": [
       "RandomForestClassifier(random_state=42)"
      ]
     },
     "execution_count": 9,
     "metadata": {},
     "output_type": "execute_result"
    }
   ],
   "source": [
    "clf = RandomForestClassifier(n_estimators=100, random_state=42)\n",
    "clf.fit(X_train, y_train)"
   ]
  },
  {
   "cell_type": "markdown",
   "id": "b051dfb5",
   "metadata": {},
   "source": [
    "### Step 7: Make Predictions\n",
    "Using the trained classifier, I'll make predictions on the test set and evaluate the model's performance."
   ]
  },
  {
   "cell_type": "code",
   "execution_count": 11,
   "id": "804a7380",
   "metadata": {},
   "outputs": [],
   "source": [
    "y_pred = clf.predict(X_test)"
   ]
  },
  {
   "cell_type": "markdown",
   "id": "3334bebe",
   "metadata": {},
   "source": [
    "### Step 8: Evaluate Model\n",
    "I will evaluate the model using accuracy score and a classification report to determine how well my model is able to classify the mushrooms."
   ]
  },
  {
   "cell_type": "code",
   "execution_count": 12,
   "id": "3ad71885",
   "metadata": {},
   "outputs": [
    {
     "name": "stdout",
     "output_type": "stream",
     "text": [
      "Accuracy: 0.99\n",
      "\n",
      "Classification Report:\n",
      "              precision    recall  f1-score   support\n",
      "\n",
      "           0       0.98      1.00      0.99       843\n",
      "           1       1.00      0.98      0.99       782\n",
      "\n",
      "    accuracy                           0.99      1625\n",
      "   macro avg       0.99      0.99      0.99      1625\n",
      "weighted avg       0.99      0.99      0.99      1625\n",
      "\n"
     ]
    }
   ],
   "source": [
    "accuracy = accuracy_score(y_test, y_pred)\n",
    "print(f\"Accuracy: {accuracy:.2f}\")\n",
    "print(\"\\nClassification Report:\")\n",
    "print(classification_report(y_test, y_pred))"
   ]
  },
  {
   "cell_type": "markdown",
   "id": "7144528a",
   "metadata": {},
   "source": [
    "### Step 9: Conclusion\n",
    "Based on the accuracy and classification report, I can draw conclusions about which feature is a better predictor of whether a mushroom is poisonous or edible. The accuracy score will help me understand the overall effectiveness of the model, while the feature importance (obtained from the Random Forest model) will help me assess which feature was most important in making predictions."
   ]
  },
  {
   "cell_type": "code",
   "execution_count": 13,
   "id": "1a5802d3",
   "metadata": {},
   "outputs": [
    {
     "name": "stdout",
     "output_type": "stream",
     "text": [
      "\n",
      "Feature Importances:\n",
      "odor_n          0.371035\n",
      "odor_f          0.226310\n",
      "odor_y          0.066802\n",
      "odor_s          0.064020\n",
      "odor_p          0.059114\n",
      "odor_l          0.049004\n",
      "odor_c          0.044707\n",
      "gill-color_n    0.037176\n",
      "gill-color_w    0.025198\n",
      "gill-color_k    0.011653\n",
      "gill-color_u    0.010670\n",
      "gill-color_r    0.009905\n",
      "odor_m          0.008479\n",
      "gill-color_g    0.007328\n",
      "gill-color_p    0.004104\n",
      "gill-color_h    0.002056\n",
      "gill-color_e    0.001061\n",
      "gill-color_y    0.000905\n",
      "gill-color_o    0.000472\n",
      "dtype: float64\n"
     ]
    }
   ],
   "source": [
    "feature_importances = pd.Series(clf.feature_importances_, index=df_features.columns)\n",
    "print(\"\\nFeature Importances:\")\n",
    "print(feature_importances.sort_values(ascending=False))"
   ]
  }
 ],
 "metadata": {
  "kernelspec": {
   "display_name": "Python 3 (ipykernel)",
   "language": "python",
   "name": "python3"
  },
  "language_info": {
   "codemirror_mode": {
    "name": "ipython",
    "version": 3
   },
   "file_extension": ".py",
   "mimetype": "text/x-python",
   "name": "python",
   "nbconvert_exporter": "python",
   "pygments_lexer": "ipython3",
   "version": "3.11.5"
  }
 },
 "nbformat": 4,
 "nbformat_minor": 5
}
